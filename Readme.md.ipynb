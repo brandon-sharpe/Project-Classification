{
 "cells": [
  {
   "cell_type": "markdown",
   "id": "1137fc96",
   "metadata": {},
   "source": [
    "# Classification Project\n",
    "\n",
    "*Welcome to my very first project with Machine Learning*\n",
    "***"
   ]
  },
  {
   "cell_type": "markdown",
   "id": "75c10ecd",
   "metadata": {},
   "source": [
    "## Project Objectives\n",
    "\n",
    "- Document code, process (data acquistion, preparation, exploratory data analysis and statistical testing, modeling, and model evaluation), findings, and key takeaways in a Jupyter Notebook report.\n",
    "\n",
    "\n",
    "- Create modules (acquire.py, prepare.py) that make my process repeateable.\n",
    "\n",
    "\n",
    "- Construct a model to predict customer churn using classification techniques.\n",
    "\n",
    "\n",
    "- Deliver a 5 minute presentation consisting of a high-level notebook walkthrough using my Jupyter Notebook from above; my presentation should be appropriate for my target audience.\n",
    "\n",
    "\n",
    "- Answer panel questions about my code, process, findings and key takeaways, and model.\n",
    "***\n"
   ]
  },
  {
   "cell_type": "markdown",
   "id": "1cd09878",
   "metadata": {},
   "source": [
    "## Business Goals\n",
    "\n",
    "- Find drivers for customer churn at Telco. Why are customers churning?\n",
    "\n",
    "\n",
    "- Construct a ML classification model that accurately predicts customer churn.\n",
    "\n",
    "\n",
    "- Document your process well enough to be presented or read like a report.\n",
    "***"
   ]
  },
  {
   "cell_type": "markdown",
   "id": "356c0664",
   "metadata": {},
   "source": [
    "## Audience\n",
    "\n",
    "- My target audience for your notebook walkthrough is the Codeup Data Science team.\n",
    "***"
   ]
  },
  {
   "cell_type": "markdown",
   "id": "44c310eb",
   "metadata": {},
   "source": [
    "## Deliverables\n",
    "\n",
    "I expect to deliver the following:\n",
    "\n",
    "- a Jupyter Notebook Report showing process and analysis with the goal of finding drivers for customer churn. This notebook should be commented and documented well enough to be read like a report or walked through as a presentation.\n",
    "\n",
    "\n",
    "- a README.md file containing the project description with goals, initial hypotheses, a data dictionary, project planning, instructions or an explanation of how someone else can recreate my project and findings (What would someone need to be able to recreate my project on their own?), answers to my hypotheses, key findings, recommendations, and takeaways from my project.\n",
    "    \n",
    "\n",
    "- a CSV file with customer_id, probability of churn, and prediction of churn. (1=churn, 0=not_churn). These predictions will be from my best performing model ran on X_test.\n",
    "\n",
    "\n",
    "- individual modules, .py files, that hold my functions to acquire and prepare my data.\n",
    "\n",
    "\n",
    "- a notebook walkthrough presentation with a high-level overview of my project (5 minutes max). I will be prepared to answer follow-up questions about my code, process, tests, model, and findings.\n",
    "***"
   ]
  },
  {
   "cell_type": "markdown",
   "id": "e338fa65",
   "metadata": {},
   "source": [
    "## Project Planning\n",
    "**Plan->** Acquire -> Prepare -> Explore -> Model & Evaluate -> Deliver\n",
    "\n",
    "- Create Readme.md that describes the project and goals.\n",
    "\n",
    "\n",
    "- Create an acquire.py and prepare.py file to acquire the telco data set, prepare and select my features and split it into  train validate and test dataframes.  \n",
    "\n",
    "\n",
    "- Create and update a data dictionary for those reading the project\n",
    "\n",
    "\n",
    "- Document my project in a way that passes the wife test (can my wife who isnt into data science understand what is happening)\n",
    "\n",
    "\n",
    "- Clearly state my starting hypotheses (and add the testing of these to my task list).\n",
    "\n"
   ]
  },
  {
   "cell_type": "code",
   "execution_count": null,
   "id": "ee3c8ca0",
   "metadata": {},
   "outputs": [],
   "source": []
  },
  {
   "cell_type": "code",
   "execution_count": null,
   "id": "c56a9e1a",
   "metadata": {},
   "outputs": [],
   "source": []
  }
 ],
 "metadata": {
  "kernelspec": {
   "display_name": "Python 3",
   "language": "python",
   "name": "python3"
  },
  "language_info": {
   "codemirror_mode": {
    "name": "ipython",
    "version": 3
   },
   "file_extension": ".py",
   "mimetype": "text/x-python",
   "name": "python",
   "nbconvert_exporter": "python",
   "pygments_lexer": "ipython3",
   "version": "3.8.8"
  }
 },
 "nbformat": 4,
 "nbformat_minor": 5
}
