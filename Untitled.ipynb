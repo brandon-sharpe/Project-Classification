{
 "cells": [
  {
   "cell_type": "code",
   "execution_count": 1,
   "id": "bb1887f6",
   "metadata": {},
   "outputs": [],
   "source": [
    "import pandas as pd\n",
    "import numpy as np\n",
    "import acquire\n",
    "from prepare import clean_telco_df,telco_split,prep_telco"
   ]
  },
  {
   "cell_type": "code",
   "execution_count": 2,
   "id": "2373bcae",
   "metadata": {},
   "outputs": [],
   "source": [
    "df = acquire.get_telco_churn_data()"
   ]
  },
  {
   "cell_type": "code",
   "execution_count": null,
   "id": "e83a2c4e",
   "metadata": {},
   "outputs": [],
   "source": [
    "df.head()"
   ]
  },
  {
   "cell_type": "code",
   "execution_count": null,
   "id": "bddca82d",
   "metadata": {},
   "outputs": [],
   "source": [
    "print(pd.DataFrame([{'Feature': col,\n",
    "         'Datatype': f'{df[col].count()} non-null: {df[col].dtype}',\n",
    "        'Definition' : ''} for col in df.columns]).set_index('Feature').to_markdown())"
   ]
  },
  {
   "cell_type": "code",
   "execution_count": 4,
   "id": "fdbe7871",
   "metadata": {},
   "outputs": [],
   "source": [
    "train, validate, test = prep_telco(df)"
   ]
  },
  {
   "cell_type": "code",
   "execution_count": 5,
   "id": "6455bfff",
   "metadata": {},
   "outputs": [
    {
     "name": "stdout",
     "output_type": "stream",
     "text": [
      "| Feature                    | Datatype               | Definition   |\n",
      "|:---------------------------|:-----------------------|:-------------|\n",
      "| senior_citizen             | 3943 non-null: int64   |              |\n",
      "| tenure                     | 3943 non-null: int64   |              |\n",
      "| monthly_charges            | 3943 non-null: float64 |              |\n",
      "| total_charges              | 3943 non-null: float64 |              |\n",
      "| is_male                    | 3943 non-null: uint8   |              |\n",
      "| has_partner                | 3943 non-null: uint8   |              |\n",
      "| has_dependents             | 3943 non-null: uint8   |              |\n",
      "| has_phone_service          | 3943 non-null: uint8   |              |\n",
      "| has_multiple_lines         | 3943 non-null: uint8   |              |\n",
      "| has_online_security        | 3943 non-null: uint8   |              |\n",
      "| has_online_backup          | 3943 non-null: uint8   |              |\n",
      "| has_device_protection      | 3943 non-null: uint8   |              |\n",
      "| has_tech_support           | 3943 non-null: uint8   |              |\n",
      "| has_streaming_tv           | 3943 non-null: uint8   |              |\n",
      "| has_streaming_movies       | 3943 non-null: uint8   |              |\n",
      "| has_paperless_billing      | 3943 non-null: uint8   |              |\n",
      "| has_churned                | 3943 non-null: uint8   |              |\n",
      "| automatic_payment          | 3943 non-null: int64   |              |\n",
      "| has_dsl                    | 3943 non-null: uint8   |              |\n",
      "| has_fiber                  | 3943 non-null: uint8   |              |\n",
      "| has_no_internet            | 3943 non-null: uint8   |              |\n",
      "| month_to_month_customer    | 3943 non-null: uint8   |              |\n",
      "| contract_customer_one_year | 3943 non-null: uint8   |              |\n",
      "| contract_customer_two_year | 3943 non-null: uint8   |              |\n",
      "| pays_by_bank_transfer      | 3943 non-null: uint8   |              |\n",
      "| pays_by_credit_card        | 3943 non-null: uint8   |              |\n",
      "| pays_by_electronic_check   | 3943 non-null: uint8   |              |\n",
      "| pays_by_mailed_check       | 3943 non-null: uint8   |              |\n"
     ]
    }
   ],
   "source": [
    "print(pd.DataFrame([{'Feature': col,\n",
    "         'Datatype': f'{train[col].count()} non-null: {train[col].dtype}',\n",
    "        'Definition' : ''} for col in train.columns]).set_index('Feature').to_markdown())"
   ]
  },
  {
   "cell_type": "code",
   "execution_count": null,
   "id": "47edbf82",
   "metadata": {},
   "outputs": [],
   "source": []
  }
 ],
 "metadata": {
  "kernelspec": {
   "display_name": "Python 3",
   "language": "python",
   "name": "python3"
  },
  "language_info": {
   "codemirror_mode": {
    "name": "ipython",
    "version": 3
   },
   "file_extension": ".py",
   "mimetype": "text/x-python",
   "name": "python",
   "nbconvert_exporter": "python",
   "pygments_lexer": "ipython3",
   "version": "3.8.8"
  }
 },
 "nbformat": 4,
 "nbformat_minor": 5
}
