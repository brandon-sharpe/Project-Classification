{
 "cells": [
  {
   "cell_type": "markdown",
   "id": "e0a52cdb",
   "metadata": {},
   "source": [
    "# Telecommunications Classification Project\n",
    "***\n"
   ]
  },
  {
   "cell_type": "markdown",
   "id": "5dd18d58",
   "metadata": {},
   "source": [
    "## Project Objective\n",
    "Find drivers for customer churn at Telco. Why are customers churning? Create a machine learning model that accuratley predicts churn in customers and document the key drivers.\n",
    "***\n"
   ]
  },
  {
   "cell_type": "markdown",
   "id": "2be45326",
   "metadata": {},
   "source": [
    "## Executive Summary"
   ]
  },
  {
   "cell_type": "markdown",
   "id": "0462339d",
   "metadata": {},
   "source": [
    "\n",
    "\n",
    "\n",
    "\n",
    "***"
   ]
  },
  {
   "cell_type": "markdown",
   "id": "f8088560",
   "metadata": {},
   "source": [
    "## Import"
   ]
  },
  {
   "cell_type": "code",
   "execution_count": 4,
   "id": "f66a5983",
   "metadata": {},
   "outputs": [],
   "source": [
    "import pandas as pd\n",
    "import numpy as np\n",
    "import seaborn as sns\n",
    "import matplotlib as plt\n",
    "from scipy import stats\n",
    "\n",
    "from acquire import get_connection, new_telco_churn_data, get_telco_churn_data\n"
   ]
  },
  {
   "cell_type": "code",
   "execution_count": null,
   "id": "50437f69",
   "metadata": {},
   "outputs": [],
   "source": []
  }
 ],
 "metadata": {
  "kernelspec": {
   "display_name": "Python 3",
   "language": "python",
   "name": "python3"
  },
  "language_info": {
   "codemirror_mode": {
    "name": "ipython",
    "version": 3
   },
   "file_extension": ".py",
   "mimetype": "text/x-python",
   "name": "python",
   "nbconvert_exporter": "python",
   "pygments_lexer": "ipython3",
   "version": "3.8.8"
  }
 },
 "nbformat": 4,
 "nbformat_minor": 5
}
